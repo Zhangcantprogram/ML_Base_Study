{
 "cells": [
  {
   "cell_type": "code",
   "execution_count": 3,
   "metadata": {},
   "outputs": [
    {
     "name": "stdout",
     "output_type": "stream",
     "text": [
      "[8.86342983]\n",
      "8\n"
     ]
    }
   ],
   "source": [
    "#线性回归算法demo\n",
    "# 但是这个数据集是手写数字，不适合进行线性回归，而应该用于分类\n",
    "\n",
    "\n",
    "# 使用 scikit-learn 工具包\n",
    "from sklearn import linear_model,datasets\n",
    "\n",
    "# 从digit中加载数据集\n",
    "# digits 数据集：这是一个手写数字图像的多分类数据集，\n",
    "# 包含 1797 个 8x8 像素的灰度图像，每个图像代表一个数字（从 0 到 9）。\n",
    "# 每个数据点的目标值（target）表示对应的数字（类别标签）。\n",
    "digits = datasets.load_digits()\n",
    "# 创建一个线性回归模型\n",
    "clf = linear_model.LinearRegression()\n",
    "\n",
    "# 设置训练集\n",
    "# 选择 digits.data 中除最后一个样本之外的所有数据作为特征\n",
    "x, y = digits.data[:-1], digits.target[:-1]\n",
    "\n",
    "# 训练模型\n",
    "clf.fit(x,y)\n",
    "\n",
    "# 对数据集中的最后一个数据进行预测\n",
    "y_pred = clf.predict([digits.data[-1]])\n",
    "y_true = digits.target[-1]\n",
    "\n",
    "print(y_pred)\n",
    "print(y_true)\n",
    "\n",
    "\n"
   ]
  }
 ],
 "metadata": {
  "kernelspec": {
   "display_name": "transformer",
   "language": "python",
   "name": "python3"
  },
  "language_info": {
   "codemirror_mode": {
    "name": "ipython",
    "version": 3
   },
   "file_extension": ".py",
   "mimetype": "text/x-python",
   "name": "python",
   "nbconvert_exporter": "python",
   "pygments_lexer": "ipython3",
   "version": "3.10.14"
  }
 },
 "nbformat": 4,
 "nbformat_minor": 2
}
