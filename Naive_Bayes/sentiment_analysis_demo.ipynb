{
 "cells": [
  {
   "cell_type": "code",
   "execution_count": 1,
   "metadata": {},
   "outputs": [],
   "source": [
    "# 实现过程\n",
    "\n",
    "# 1.获取数据\n",
    "# 2.数据基本处理\n",
    "#   2.1取出内容列，对数据进行分析\n",
    "#   2.2判定评判标准\n",
    "#   2.3选择停用词\n",
    "#   2.4把内容处理，转化成标准格式\n",
    "#   2.5统计词的个数\n",
    "#   2.6准备训练集和测试集\n",
    "# 3.模型训练\n",
    "# 4.模型评估\n"
   ]
  },
  {
   "cell_type": "code",
   "execution_count": 4,
   "metadata": {},
   "outputs": [],
   "source": [
    "# 导入必要的包\n",
    "#!pip install jieba\n",
    "#### 顺便保存一下环境配置 O.o！ conda env export > D:\\Study\\VSCode\\vsCode\\ML\\environment.yml\n",
    "\n",
    "import pandas as pd\n",
    "import numpy as np\n",
    "import jieba\n",
    "import matplotlib.pyplot as plt\n",
    "from sklearn.feature_extraction.text import CountVectorizer\n",
    "from sklearn.naive_bayes import MultinomialNB"
   ]
  }
 ],
 "metadata": {
  "kernelspec": {
   "display_name": "transformer",
   "language": "python",
   "name": "python3"
  },
  "language_info": {
   "codemirror_mode": {
    "name": "ipython",
    "version": 3
   },
   "file_extension": ".py",
   "mimetype": "text/x-python",
   "name": "python",
   "nbconvert_exporter": "python",
   "pygments_lexer": "ipython3",
   "version": "3.10.14"
  }
 },
 "nbformat": 4,
 "nbformat_minor": 2
}
